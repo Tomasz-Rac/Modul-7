{
 "cells": [
  {
   "cell_type": "code",
   "execution_count": 15,
   "id": "4a42f756-826d-4aa0-bd05-380208604cd9",
   "metadata": {},
   "outputs": [],
   "source": [
    "a=-105"
   ]
  },
  {
   "cell_type": "code",
   "execution_count": 17,
   "id": "d0838a25-59af-47d3-bc40-0bf2a21fc100",
   "metadata": {},
   "outputs": [],
   "source": [
    "b=21"
   ]
  },
  {
   "cell_type": "code",
   "execution_count": 19,
   "id": "1152366e-b0e6-4b4a-b6b6-6bed87e8c2d5",
   "metadata": {},
   "outputs": [],
   "source": [
    "c=a+b"
   ]
  },
  {
   "cell_type": "code",
   "execution_count": 21,
   "id": "7d0d05ad-6bef-4e92-a6e6-76efbdb831ea",
   "metadata": {},
   "outputs": [
    {
     "name": "stdout",
     "output_type": "stream",
     "text": [
      "-84\n"
     ]
    }
   ],
   "source": [
    "print(c)"
   ]
  }
 ],
 "metadata": {
  "kernelspec": {
   "display_name": "Python [conda env:base] *",
   "language": "python",
   "name": "conda-base-py"
  },
  "language_info": {
   "codemirror_mode": {
    "name": "ipython",
    "version": 3
   },
   "file_extension": ".py",
   "mimetype": "text/x-python",
   "name": "python",
   "nbconvert_exporter": "python",
   "pygments_lexer": "ipython3",
   "version": "3.12.7"
  }
 },
 "nbformat": 4,
 "nbformat_minor": 5
}
